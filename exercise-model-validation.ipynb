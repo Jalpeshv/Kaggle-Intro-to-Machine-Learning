{
 "cells": [
  {
   "cell_type": "markdown",
   "id": "bc84db55",
   "metadata": {
    "papermill": {
     "duration": 0.009035,
     "end_time": "2022-06-06T14:00:40.816892",
     "exception": false,
     "start_time": "2022-06-06T14:00:40.807857",
     "status": "completed"
    },
    "tags": []
   },
   "source": [
    "**This notebook is an exercise in the [Introduction to Machine Learning](https://www.kaggle.com/learn/intro-to-machine-learning) course.  You can reference the tutorial at [this link](https://www.kaggle.com/dansbecker/model-validation).**\n",
    "\n",
    "---\n"
   ]
  },
  {
   "cell_type": "markdown",
   "id": "6b803857",
   "metadata": {
    "papermill": {
     "duration": 0.004906,
     "end_time": "2022-06-06T14:00:40.827264",
     "exception": false,
     "start_time": "2022-06-06T14:00:40.822358",
     "status": "completed"
    },
    "tags": []
   },
   "source": [
    "## Recap\n",
    "You've built a model. In this exercise you will test how good your model is.\n",
    "\n",
    "Run the cell below to set up your coding environment where the previous exercise left off."
   ]
  },
  {
   "cell_type": "code",
   "execution_count": 1,
   "id": "a1640e47",
   "metadata": {
    "execution": {
     "iopub.execute_input": "2022-06-06T14:00:40.839842Z",
     "iopub.status.busy": "2022-06-06T14:00:40.839370Z",
     "iopub.status.idle": "2022-06-06T14:00:42.420690Z",
     "shell.execute_reply": "2022-06-06T14:00:42.419631Z"
    },
    "papermill": {
     "duration": 1.59114,
     "end_time": "2022-06-06T14:00:42.423668",
     "exception": false,
     "start_time": "2022-06-06T14:00:40.832528",
     "status": "completed"
    },
    "tags": []
   },
   "outputs": [
    {
     "name": "stdout",
     "output_type": "stream",
     "text": [
      "First in-sample predictions: [208500. 181500. 223500. 140000. 250000.]\n",
      "Actual target values for those homes: [208500, 181500, 223500, 140000, 250000]\n",
      "Setup Complete\n"
     ]
    }
   ],
   "source": [
    "# Code you have previously used to load data\n",
    "import pandas as pd\n",
    "from sklearn.tree import DecisionTreeRegressor\n",
    "\n",
    "# Path of the file to read\n",
    "iowa_file_path = '../input/home-data-for-ml-course/train.csv'\n",
    "\n",
    "home_data = pd.read_csv(iowa_file_path)\n",
    "y = home_data.SalePrice\n",
    "feature_columns = ['LotArea', 'YearBuilt', '1stFlrSF', '2ndFlrSF', 'FullBath', 'BedroomAbvGr', 'TotRmsAbvGrd']\n",
    "X = home_data[feature_columns]\n",
    "\n",
    "# Specify Model\n",
    "iowa_model = DecisionTreeRegressor()\n",
    "# Fit Model\n",
    "iowa_model.fit(X, y)\n",
    "\n",
    "print(\"First in-sample predictions:\", iowa_model.predict(X.head()))\n",
    "print(\"Actual target values for those homes:\", y.head().tolist())\n",
    "\n",
    "# Set up code checking\n",
    "from learntools.core import binder\n",
    "binder.bind(globals())\n",
    "from learntools.machine_learning.ex4 import *\n",
    "print(\"Setup Complete\")"
   ]
  },
  {
   "cell_type": "markdown",
   "id": "6eb88af9",
   "metadata": {
    "papermill": {
     "duration": 0.005199,
     "end_time": "2022-06-06T14:00:42.434560",
     "exception": false,
     "start_time": "2022-06-06T14:00:42.429361",
     "status": "completed"
    },
    "tags": []
   },
   "source": [
    "# Exercises\n",
    "\n",
    "## Step 1: Split Your Data\n",
    "Use the `train_test_split` function to split up your data.\n",
    "\n",
    "Give it the argument `random_state=1` so the `check` functions know what to expect when verifying your code.\n",
    "\n",
    "Recall, your features are loaded in the DataFrame **X** and your target is loaded in **y**.\n"
   ]
  },
  {
   "cell_type": "code",
   "execution_count": 2,
   "id": "8eb3debf",
   "metadata": {
    "execution": {
     "iopub.execute_input": "2022-06-06T14:00:42.446764Z",
     "iopub.status.busy": "2022-06-06T14:00:42.446357Z",
     "iopub.status.idle": "2022-06-06T14:00:42.463587Z",
     "shell.execute_reply": "2022-06-06T14:00:42.462478Z"
    },
    "papermill": {
     "duration": 0.025856,
     "end_time": "2022-06-06T14:00:42.465798",
     "exception": false,
     "start_time": "2022-06-06T14:00:42.439942",
     "status": "completed"
    },
    "tags": []
   },
   "outputs": [
    {
     "data": {
      "application/javascript": [
       "parent.postMessage({\"jupyterEvent\": \"custom.exercise_interaction\", \"data\": {\"outcomeType\": 1, \"valueTowardsCompletion\": 0.25, \"interactionType\": 1, \"questionType\": 2, \"questionId\": \"1_SplitData\", \"learnToolsVersion\": \"0.3.4\", \"failureMessage\": \"\", \"exceptionClass\": \"\", \"trace\": \"\"}}, \"*\")"
      ],
      "text/plain": [
       "<IPython.core.display.Javascript object>"
      ]
     },
     "metadata": {},
     "output_type": "display_data"
    },
    {
     "data": {
      "text/markdown": [
       "<span style=\"color:#33cc33\">Correct</span>"
      ],
      "text/plain": [
       "Correct"
      ]
     },
     "metadata": {},
     "output_type": "display_data"
    }
   ],
   "source": [
    "# Import the train_test_split function and uncomment\n",
    "# from _ import _\n",
    "from sklearn.model_selection import train_test_split\n",
    "# fill in and uncomment\n",
    "train_X, val_X, train_y, val_y = train_test_split(X, y, random_state = 1)\n",
    "\n",
    "# Check your answer\n",
    "step_1.check()"
   ]
  },
  {
   "cell_type": "code",
   "execution_count": 3,
   "id": "80621b44",
   "metadata": {
    "execution": {
     "iopub.execute_input": "2022-06-06T14:00:42.480028Z",
     "iopub.status.busy": "2022-06-06T14:00:42.478636Z",
     "iopub.status.idle": "2022-06-06T14:00:42.483828Z",
     "shell.execute_reply": "2022-06-06T14:00:42.483086Z"
    },
    "papermill": {
     "duration": 0.014797,
     "end_time": "2022-06-06T14:00:42.486244",
     "exception": false,
     "start_time": "2022-06-06T14:00:42.471447",
     "status": "completed"
    },
    "tags": []
   },
   "outputs": [],
   "source": [
    "# The lines below will show you a hint or the solution.\n",
    "# step_1.hint() \n",
    "# step_1.solution()\n"
   ]
  },
  {
   "cell_type": "markdown",
   "id": "f8ac585f",
   "metadata": {
    "papermill": {
     "duration": 0.005321,
     "end_time": "2022-06-06T14:00:42.497274",
     "exception": false,
     "start_time": "2022-06-06T14:00:42.491953",
     "status": "completed"
    },
    "tags": []
   },
   "source": [
    "## Step 2: Specify and Fit the Model\n",
    "\n",
    "Create a `DecisionTreeRegressor` model and fit it to the relevant data.\n",
    "Set `random_state` to 1 again when creating the model."
   ]
  },
  {
   "cell_type": "code",
   "execution_count": 4,
   "id": "4df5993c",
   "metadata": {
    "execution": {
     "iopub.execute_input": "2022-06-06T14:00:42.510548Z",
     "iopub.status.busy": "2022-06-06T14:00:42.509815Z",
     "iopub.status.idle": "2022-06-06T14:00:42.540053Z",
     "shell.execute_reply": "2022-06-06T14:00:42.538342Z"
    },
    "papermill": {
     "duration": 0.039741,
     "end_time": "2022-06-06T14:00:42.542533",
     "exception": false,
     "start_time": "2022-06-06T14:00:42.502792",
     "status": "completed"
    },
    "tags": []
   },
   "outputs": [
    {
     "name": "stdout",
     "output_type": "stream",
     "text": [
      "[186500. 184000. 130000.  92000. 164500. 220000. 335000. 144152. 215000.\n",
      " 262000.]\n",
      "[186500. 184000. 130000.  92000. 164500. 220000. 335000. 144152. 215000.\n",
      " 262000.]\n"
     ]
    },
    {
     "data": {
      "application/javascript": [
       "parent.postMessage({\"jupyterEvent\": \"custom.exercise_interaction\", \"data\": {\"outcomeType\": 1, \"valueTowardsCompletion\": 0.25, \"interactionType\": 1, \"questionType\": 2, \"questionId\": \"2_FitModelWithTrain\", \"learnToolsVersion\": \"0.3.4\", \"failureMessage\": \"\", \"exceptionClass\": \"\", \"trace\": \"\"}}, \"*\")"
      ],
      "text/plain": [
       "<IPython.core.display.Javascript object>"
      ]
     },
     "metadata": {},
     "output_type": "display_data"
    },
    {
     "data": {
      "text/markdown": [
       "<span style=\"color:#33cc33\">Correct</span>"
      ],
      "text/plain": [
       "Correct"
      ]
     },
     "metadata": {},
     "output_type": "display_data"
    }
   ],
   "source": [
    "# You imported DecisionTreeRegressor in your last exercise\n",
    "# and that code has been copied to the setup code above. So, no need to\n",
    "# import it again\n",
    "\n",
    "# Specify the model\n",
    "iowa_model = DecisionTreeRegressor(random_state=1)\n",
    "\n",
    "# Fit iowa_model with the training data.\n",
    "iowa_model.fit(train_X, train_y)\n",
    "\n",
    "# Check your answer\n",
    "step_2.check()"
   ]
  },
  {
   "cell_type": "code",
   "execution_count": 5,
   "id": "ec998e32",
   "metadata": {
    "execution": {
     "iopub.execute_input": "2022-06-06T14:00:42.556866Z",
     "iopub.status.busy": "2022-06-06T14:00:42.556047Z",
     "iopub.status.idle": "2022-06-06T14:00:42.561447Z",
     "shell.execute_reply": "2022-06-06T14:00:42.560571Z"
    },
    "papermill": {
     "duration": 0.014966,
     "end_time": "2022-06-06T14:00:42.563697",
     "exception": false,
     "start_time": "2022-06-06T14:00:42.548731",
     "status": "completed"
    },
    "tags": []
   },
   "outputs": [],
   "source": [
    "# step_2.hint()\n",
    "# step_2.solution()"
   ]
  },
  {
   "cell_type": "markdown",
   "id": "6accbd02",
   "metadata": {
    "papermill": {
     "duration": 0.006041,
     "end_time": "2022-06-06T14:00:42.575923",
     "exception": false,
     "start_time": "2022-06-06T14:00:42.569882",
     "status": "completed"
    },
    "tags": []
   },
   "source": [
    "## Step 3: Make Predictions with Validation data\n"
   ]
  },
  {
   "cell_type": "code",
   "execution_count": 6,
   "id": "3ec5a142",
   "metadata": {
    "execution": {
     "iopub.execute_input": "2022-06-06T14:00:42.590901Z",
     "iopub.status.busy": "2022-06-06T14:00:42.590114Z",
     "iopub.status.idle": "2022-06-06T14:00:42.601898Z",
     "shell.execute_reply": "2022-06-06T14:00:42.601101Z"
    },
    "papermill": {
     "duration": 0.021613,
     "end_time": "2022-06-06T14:00:42.603948",
     "exception": false,
     "start_time": "2022-06-06T14:00:42.582335",
     "status": "completed"
    },
    "tags": []
   },
   "outputs": [
    {
     "data": {
      "application/javascript": [
       "parent.postMessage({\"jupyterEvent\": \"custom.exercise_interaction\", \"data\": {\"outcomeType\": 1, \"valueTowardsCompletion\": 0.25, \"interactionType\": 1, \"questionType\": 2, \"questionId\": \"3_ValPreds\", \"learnToolsVersion\": \"0.3.4\", \"failureMessage\": \"\", \"exceptionClass\": \"\", \"trace\": \"\"}}, \"*\")"
      ],
      "text/plain": [
       "<IPython.core.display.Javascript object>"
      ]
     },
     "metadata": {},
     "output_type": "display_data"
    },
    {
     "data": {
      "text/markdown": [
       "<span style=\"color:#33cc33\">Correct</span>"
      ],
      "text/plain": [
       "Correct"
      ]
     },
     "metadata": {},
     "output_type": "display_data"
    }
   ],
   "source": [
    "# Predict with all validation observations\n",
    "val_predictions = iowa_model.predict(val_X)\n",
    "\n",
    "# Check your answer\n",
    "step_3.check()"
   ]
  },
  {
   "cell_type": "code",
   "execution_count": 7,
   "id": "3adab6c6",
   "metadata": {
    "execution": {
     "iopub.execute_input": "2022-06-06T14:00:42.618537Z",
     "iopub.status.busy": "2022-06-06T14:00:42.618078Z",
     "iopub.status.idle": "2022-06-06T14:00:42.622303Z",
     "shell.execute_reply": "2022-06-06T14:00:42.621261Z"
    },
    "papermill": {
     "duration": 0.014245,
     "end_time": "2022-06-06T14:00:42.624659",
     "exception": false,
     "start_time": "2022-06-06T14:00:42.610414",
     "status": "completed"
    },
    "tags": []
   },
   "outputs": [],
   "source": [
    "# step_3.hint()\n",
    "# step_3.solution()"
   ]
  },
  {
   "cell_type": "markdown",
   "id": "0efb7db7",
   "metadata": {
    "papermill": {
     "duration": 0.00584,
     "end_time": "2022-06-06T14:00:42.636819",
     "exception": false,
     "start_time": "2022-06-06T14:00:42.630979",
     "status": "completed"
    },
    "tags": []
   },
   "source": [
    "Inspect your predictions and actual values from validation data."
   ]
  },
  {
   "cell_type": "code",
   "execution_count": 8,
   "id": "f214346c",
   "metadata": {
    "execution": {
     "iopub.execute_input": "2022-06-06T14:00:42.651274Z",
     "iopub.status.busy": "2022-06-06T14:00:42.650831Z",
     "iopub.status.idle": "2022-06-06T14:00:42.659013Z",
     "shell.execute_reply": "2022-06-06T14:00:42.657933Z"
    },
    "papermill": {
     "duration": 0.018151,
     "end_time": "2022-06-06T14:00:42.661315",
     "exception": false,
     "start_time": "2022-06-06T14:00:42.643164",
     "status": "completed"
    },
    "tags": []
   },
   "outputs": [
    {
     "name": "stdout",
     "output_type": "stream",
     "text": [
      "[186500. 184000. 130000.  92000. 164500.]\n",
      "[208500, 181500, 223500, 140000, 250000]\n"
     ]
    }
   ],
   "source": [
    "# print the top few validation predictions\n",
    "print(iowa_model.predict(val_X.head()))\n",
    "# print the top few actual prices from validation data\n",
    "print(y.head().tolist())"
   ]
  },
  {
   "cell_type": "markdown",
   "id": "6a8159ea",
   "metadata": {
    "papermill": {
     "duration": 0.00613,
     "end_time": "2022-06-06T14:00:42.674244",
     "exception": false,
     "start_time": "2022-06-06T14:00:42.668114",
     "status": "completed"
    },
    "tags": []
   },
   "source": [
    "What do you notice that is different from what you saw with in-sample predictions (which are printed after the top code cell in this page).\n",
    "\n",
    "Do you remember why validation predictions differ from in-sample (or training) predictions? This is an important idea from the last lesson.\n",
    "\n",
    "## Step 4: Calculate the Mean Absolute Error in Validation Data\n"
   ]
  },
  {
   "cell_type": "code",
   "execution_count": 9,
   "id": "4cf2d74f",
   "metadata": {
    "execution": {
     "iopub.execute_input": "2022-06-06T14:00:42.689728Z",
     "iopub.status.busy": "2022-06-06T14:00:42.689288Z",
     "iopub.status.idle": "2022-06-06T14:00:42.699609Z",
     "shell.execute_reply": "2022-06-06T14:00:42.697966Z"
    },
    "papermill": {
     "duration": 0.021907,
     "end_time": "2022-06-06T14:00:42.702476",
     "exception": false,
     "start_time": "2022-06-06T14:00:42.680569",
     "status": "completed"
    },
    "tags": []
   },
   "outputs": [
    {
     "name": "stdout",
     "output_type": "stream",
     "text": [
      "29652.931506849316\n"
     ]
    },
    {
     "data": {
      "application/javascript": [
       "parent.postMessage({\"jupyterEvent\": \"custom.exercise_interaction\", \"data\": {\"outcomeType\": 1, \"valueTowardsCompletion\": 0.25, \"interactionType\": 1, \"questionType\": 1, \"questionId\": \"4_MAE\", \"learnToolsVersion\": \"0.3.4\", \"failureMessage\": \"\", \"exceptionClass\": \"\", \"trace\": \"\"}}, \"*\")"
      ],
      "text/plain": [
       "<IPython.core.display.Javascript object>"
      ]
     },
     "metadata": {},
     "output_type": "display_data"
    },
    {
     "data": {
      "text/markdown": [
       "<span style=\"color:#33cc33\">Correct</span>"
      ],
      "text/plain": [
       "Correct"
      ]
     },
     "metadata": {},
     "output_type": "display_data"
    }
   ],
   "source": [
    "from sklearn.metrics import mean_absolute_error\n",
    "val_mae = mean_absolute_error(val_y, val_predictions)\n",
    "\n",
    "# uncomment following line to see the validation_mae\n",
    "print(val_mae)\n",
    "\n",
    "# Check your answer\n",
    "step_4.check()"
   ]
  },
  {
   "cell_type": "code",
   "execution_count": 10,
   "id": "94800564",
   "metadata": {
    "execution": {
     "iopub.execute_input": "2022-06-06T14:00:42.717590Z",
     "iopub.status.busy": "2022-06-06T14:00:42.717158Z",
     "iopub.status.idle": "2022-06-06T14:00:42.721591Z",
     "shell.execute_reply": "2022-06-06T14:00:42.720509Z"
    },
    "papermill": {
     "duration": 0.014374,
     "end_time": "2022-06-06T14:00:42.723631",
     "exception": false,
     "start_time": "2022-06-06T14:00:42.709257",
     "status": "completed"
    },
    "tags": []
   },
   "outputs": [],
   "source": [
    "# step_4.hint()\n",
    "# step_4.solution()"
   ]
  },
  {
   "cell_type": "markdown",
   "id": "44c2050c",
   "metadata": {
    "papermill": {
     "duration": 0.006277,
     "end_time": "2022-06-06T14:00:42.736720",
     "exception": false,
     "start_time": "2022-06-06T14:00:42.730443",
     "status": "completed"
    },
    "tags": []
   },
   "source": [
    "Is that MAE good?  There isn't a general rule for what values are good that applies across applications. But you'll see how to use (and improve) this number in the next step.\n",
    "\n",
    "# Keep Going\n",
    "\n",
    "You are ready for **[Underfitting and Overfitting](https://www.kaggle.com/dansbecker/underfitting-and-overfitting).**\n"
   ]
  },
  {
   "cell_type": "markdown",
   "id": "b6c1a33e",
   "metadata": {
    "papermill": {
     "duration": 0.0068,
     "end_time": "2022-06-06T14:00:42.750432",
     "exception": false,
     "start_time": "2022-06-06T14:00:42.743632",
     "status": "completed"
    },
    "tags": []
   },
   "source": [
    "---\n",
    "\n",
    "\n",
    "\n",
    "\n",
    "*Have questions or comments? Visit the [course discussion forum](https://www.kaggle.com/learn/intro-to-machine-learning/discussion) to chat with other learners.*"
   ]
  }
 ],
 "metadata": {
  "kernelspec": {
   "display_name": "Python 3",
   "language": "python",
   "name": "python3"
  },
  "language_info": {
   "codemirror_mode": {
    "name": "ipython",
    "version": 3
   },
   "file_extension": ".py",
   "mimetype": "text/x-python",
   "name": "python",
   "nbconvert_exporter": "python",
   "pygments_lexer": "ipython3",
   "version": "3.7.12"
  },
  "papermill": {
   "default_parameters": {},
   "duration": 14.770856,
   "end_time": "2022-06-06T14:00:43.579833",
   "environment_variables": {},
   "exception": null,
   "input_path": "__notebook__.ipynb",
   "output_path": "__notebook__.ipynb",
   "parameters": {},
   "start_time": "2022-06-06T14:00:28.808977",
   "version": "2.3.4"
  }
 },
 "nbformat": 4,
 "nbformat_minor": 5
}
