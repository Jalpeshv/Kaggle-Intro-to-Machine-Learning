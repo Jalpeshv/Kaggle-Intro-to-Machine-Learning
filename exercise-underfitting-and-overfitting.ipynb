{
 "cells": [
  {
   "cell_type": "markdown",
   "id": "326d6423",
   "metadata": {
    "papermill": {
     "duration": 0.005314,
     "end_time": "2022-06-06T14:04:38.999625",
     "exception": false,
     "start_time": "2022-06-06T14:04:38.994311",
     "status": "completed"
    },
    "tags": []
   },
   "source": [
    "**This notebook is an exercise in the [Introduction to Machine Learning](https://www.kaggle.com/learn/intro-to-machine-learning) course.  You can reference the tutorial at [this link](https://www.kaggle.com/dansbecker/underfitting-and-overfitting).**\n",
    "\n",
    "---\n"
   ]
  },
  {
   "cell_type": "markdown",
   "id": "7161ba85",
   "metadata": {
    "papermill": {
     "duration": 0.003653,
     "end_time": "2022-06-06T14:04:39.010117",
     "exception": false,
     "start_time": "2022-06-06T14:04:39.006464",
     "status": "completed"
    },
    "tags": []
   },
   "source": [
    "## Recap\n",
    "You've built your first model, and now it's time to optimize the size of the tree to make better predictions. Run this cell to set up your coding environment where the previous step left off."
   ]
  },
  {
   "cell_type": "code",
   "execution_count": 1,
   "id": "43c8a830",
   "metadata": {
    "execution": {
     "iopub.execute_input": "2022-06-06T14:04:39.020354Z",
     "iopub.status.busy": "2022-06-06T14:04:39.019531Z",
     "iopub.status.idle": "2022-06-06T14:04:40.488288Z",
     "shell.execute_reply": "2022-06-06T14:04:40.486974Z"
    },
    "papermill": {
     "duration": 1.47736,
     "end_time": "2022-06-06T14:04:40.491368",
     "exception": false,
     "start_time": "2022-06-06T14:04:39.014008",
     "status": "completed"
    },
    "tags": []
   },
   "outputs": [
    {
     "name": "stdout",
     "output_type": "stream",
     "text": [
      "Validation MAE: 29,653\n",
      "\n",
      "Setup complete\n"
     ]
    }
   ],
   "source": [
    "# Code you have previously used to load data\n",
    "import pandas as pd\n",
    "from sklearn.metrics import mean_absolute_error\n",
    "from sklearn.model_selection import train_test_split\n",
    "from sklearn.tree import DecisionTreeRegressor\n",
    "\n",
    "\n",
    "# Path of the file to read\n",
    "iowa_file_path = '../input/home-data-for-ml-course/train.csv'\n",
    "\n",
    "home_data = pd.read_csv(iowa_file_path)\n",
    "# Create target object and call it y\n",
    "y = home_data.SalePrice\n",
    "# Create X\n",
    "features = ['LotArea', 'YearBuilt', '1stFlrSF', '2ndFlrSF', 'FullBath', 'BedroomAbvGr', 'TotRmsAbvGrd']\n",
    "X = home_data[features]\n",
    "\n",
    "# Split into validation and training data\n",
    "train_X, val_X, train_y, val_y = train_test_split(X, y, random_state=1)\n",
    "\n",
    "# Specify Model\n",
    "iowa_model = DecisionTreeRegressor(random_state=1)\n",
    "# Fit Model\n",
    "iowa_model.fit(train_X, train_y)\n",
    "\n",
    "# Make validation predictions and calculate mean absolute error\n",
    "val_predictions = iowa_model.predict(val_X)\n",
    "val_mae = mean_absolute_error(val_predictions, val_y)\n",
    "print(\"Validation MAE: {:,.0f}\".format(val_mae))\n",
    "\n",
    "# Set up code checking\n",
    "from learntools.core import binder\n",
    "binder.bind(globals())\n",
    "from learntools.machine_learning.ex5 import *\n",
    "print(\"\\nSetup complete\")"
   ]
  },
  {
   "cell_type": "markdown",
   "id": "0965af67",
   "metadata": {
    "papermill": {
     "duration": 0.003808,
     "end_time": "2022-06-06T14:04:40.500081",
     "exception": false,
     "start_time": "2022-06-06T14:04:40.496273",
     "status": "completed"
    },
    "tags": []
   },
   "source": [
    "# Exercises\n",
    "You could write the function `get_mae` yourself. For now, we'll supply it. This is the same function you read about in the previous lesson. Just run the cell below."
   ]
  },
  {
   "cell_type": "code",
   "execution_count": 2,
   "id": "d641cceb",
   "metadata": {
    "execution": {
     "iopub.execute_input": "2022-06-06T14:04:40.511134Z",
     "iopub.status.busy": "2022-06-06T14:04:40.510529Z",
     "iopub.status.idle": "2022-06-06T14:04:40.515690Z",
     "shell.execute_reply": "2022-06-06T14:04:40.514838Z"
    },
    "papermill": {
     "duration": 0.013403,
     "end_time": "2022-06-06T14:04:40.518000",
     "exception": false,
     "start_time": "2022-06-06T14:04:40.504597",
     "status": "completed"
    },
    "tags": []
   },
   "outputs": [],
   "source": [
    "def get_mae(max_leaf_nodes, train_X, val_X, train_y, val_y):\n",
    "    model = DecisionTreeRegressor(max_leaf_nodes=max_leaf_nodes, random_state=0)\n",
    "    model.fit(train_X, train_y)\n",
    "    preds_val = model.predict(val_X)\n",
    "    mae = mean_absolute_error(val_y, preds_val)\n",
    "    return(mae)"
   ]
  },
  {
   "cell_type": "markdown",
   "id": "309d41d1",
   "metadata": {
    "papermill": {
     "duration": 0.003871,
     "end_time": "2022-06-06T14:04:40.526510",
     "exception": false,
     "start_time": "2022-06-06T14:04:40.522639",
     "status": "completed"
    },
    "tags": []
   },
   "source": [
    "## Step 1: Compare Different Tree Sizes\n",
    "Write a loop that tries the following values for *max_leaf_nodes* from a set of possible values.\n",
    "\n",
    "Call the *get_mae* function on each value of max_leaf_nodes. Store the output in some way that allows you to select the value of `max_leaf_nodes` that gives the most accurate model on your data."
   ]
  },
  {
   "cell_type": "code",
   "execution_count": 3,
   "id": "4194d177",
   "metadata": {
    "execution": {
     "iopub.execute_input": "2022-06-06T14:04:40.536535Z",
     "iopub.status.busy": "2022-06-06T14:04:40.535992Z",
     "iopub.status.idle": "2022-06-06T14:04:40.586771Z",
     "shell.execute_reply": "2022-06-06T14:04:40.585690Z"
    },
    "papermill": {
     "duration": 0.058449,
     "end_time": "2022-06-06T14:04:40.589126",
     "exception": false,
     "start_time": "2022-06-06T14:04:40.530677",
     "status": "completed"
    },
    "tags": []
   },
   "outputs": [
    {
     "name": "stdout",
     "output_type": "stream",
     "text": [
      "100\n"
     ]
    },
    {
     "data": {
      "application/javascript": [
       "parent.postMessage({\"jupyterEvent\": \"custom.exercise_interaction\", \"data\": {\"outcomeType\": 1, \"valueTowardsCompletion\": 0.5, \"interactionType\": 1, \"questionType\": 1, \"questionId\": \"1_BestTreeSize\", \"learnToolsVersion\": \"0.3.4\", \"failureMessage\": \"\", \"exceptionClass\": \"\", \"trace\": \"\"}}, \"*\")"
      ],
      "text/plain": [
       "<IPython.core.display.Javascript object>"
      ]
     },
     "metadata": {},
     "output_type": "display_data"
    },
    {
     "data": {
      "text/markdown": [
       "<span style=\"color:#33cc33\">Correct</span>"
      ],
      "text/plain": [
       "Correct"
      ]
     },
     "metadata": {},
     "output_type": "display_data"
    }
   ],
   "source": [
    "candidate_max_leaf_nodes = [5, 25, 50, 100, 250, 500]\n",
    "# Write loop to find the ideal tree size from candidate_max_leaf_nodes\n",
    "#for max_leaf_nodes in [5, 50, 500, 5000]:\n",
    "#    my_mae = get_mae(max_leaf_nodes, train_X, val_X, train_y, val_y)    \n",
    "#    print(\"Max leaf nodes: %d  \\t\\t Mean Absolute Error:  %d\" %(max_leaf_nodes, my_mae))\n",
    "\n",
    "scores = {leaf_size: get_mae(leaf_size, train_X, val_X, train_y, val_y) for leaf_size in candidate_max_leaf_nodes}\n",
    "best_tree_size = min(scores, key=scores.get)\n",
    "\n",
    "print(best_tree_size)\n",
    "# Store the best value of max_leaf_nodes (it will be either 5, 25, 50, 100, 250 or 500)\n",
    "#best_tree_size = ____\n",
    "\n",
    "# Check your answer\n",
    "step_1.check()"
   ]
  },
  {
   "cell_type": "code",
   "execution_count": 4,
   "id": "8f2dc676",
   "metadata": {
    "execution": {
     "iopub.execute_input": "2022-06-06T14:04:40.599694Z",
     "iopub.status.busy": "2022-06-06T14:04:40.599292Z",
     "iopub.status.idle": "2022-06-06T14:04:40.603598Z",
     "shell.execute_reply": "2022-06-06T14:04:40.602483Z"
    },
    "papermill": {
     "duration": 0.012281,
     "end_time": "2022-06-06T14:04:40.605845",
     "exception": false,
     "start_time": "2022-06-06T14:04:40.593564",
     "status": "completed"
    },
    "tags": []
   },
   "outputs": [],
   "source": [
    "# The lines below will show you a hint or the solution.\n",
    "# step_1.hint() \n",
    "#step_1.solution()"
   ]
  },
  {
   "cell_type": "markdown",
   "id": "23dfd880",
   "metadata": {
    "papermill": {
     "duration": 0.004203,
     "end_time": "2022-06-06T14:04:40.614654",
     "exception": false,
     "start_time": "2022-06-06T14:04:40.610451",
     "status": "completed"
    },
    "tags": []
   },
   "source": [
    "## Step 2: Fit Model Using All Data\n",
    "You know the best tree size. If you were going to deploy this model in practice, you would make it even more accurate by using all of the data and keeping that tree size.  That is, you don't need to hold out the validation data now that you've made all your modeling decisions."
   ]
  },
  {
   "cell_type": "code",
   "execution_count": 5,
   "id": "ad337b3c",
   "metadata": {
    "execution": {
     "iopub.execute_input": "2022-06-06T14:04:40.626172Z",
     "iopub.status.busy": "2022-06-06T14:04:40.625734Z",
     "iopub.status.idle": "2022-06-06T14:04:40.647292Z",
     "shell.execute_reply": "2022-06-06T14:04:40.645976Z"
    },
    "papermill": {
     "duration": 0.030363,
     "end_time": "2022-06-06T14:04:40.649964",
     "exception": false,
     "start_time": "2022-06-06T14:04:40.619601",
     "status": "completed"
    },
    "tags": []
   },
   "outputs": [
    {
     "name": "stdout",
     "output_type": "stream",
     "text": [
      "Validation MAE: 16,816\n"
     ]
    },
    {
     "data": {
      "application/javascript": [
       "parent.postMessage({\"jupyterEvent\": \"custom.exercise_interaction\", \"data\": {\"outcomeType\": 1, \"valueTowardsCompletion\": 0.5, \"interactionType\": 1, \"questionType\": 2, \"questionId\": \"2_FitModelWithAllData\", \"learnToolsVersion\": \"0.3.4\", \"failureMessage\": \"\", \"exceptionClass\": \"\", \"trace\": \"\"}}, \"*\")"
      ],
      "text/plain": [
       "<IPython.core.display.Javascript object>"
      ]
     },
     "metadata": {},
     "output_type": "display_data"
    },
    {
     "data": {
      "text/markdown": [
       "<span style=\"color:#33cc33\">Correct</span>"
      ],
      "text/plain": [
       "Correct"
      ]
     },
     "metadata": {},
     "output_type": "display_data"
    }
   ],
   "source": [
    "# Fill in argument to make optimal size and uncomment\n",
    "final_model = DecisionTreeRegressor(max_leaf_nodes=best_tree_size,random_state=1)\n",
    "\n",
    "# fit the final model and uncomment the next two lines\n",
    "final_model.fit(X, y)\n",
    "\n",
    "# Make validation predictions and calculate mean absolute error\n",
    "val_predictions = final_model.predict(val_X)\n",
    "val_mae = mean_absolute_error(val_predictions, val_y)\n",
    "print(\"Validation MAE: {:,.0f}\".format(val_mae))\n",
    "\n",
    "\n",
    "# Check your answer\n",
    "step_2.check()"
   ]
  },
  {
   "cell_type": "code",
   "execution_count": 6,
   "id": "0131509f",
   "metadata": {
    "execution": {
     "iopub.execute_input": "2022-06-06T14:04:40.662304Z",
     "iopub.status.busy": "2022-06-06T14:04:40.661732Z",
     "iopub.status.idle": "2022-06-06T14:04:40.667548Z",
     "shell.execute_reply": "2022-06-06T14:04:40.666413Z"
    },
    "papermill": {
     "duration": 0.014356,
     "end_time": "2022-06-06T14:04:40.669704",
     "exception": false,
     "start_time": "2022-06-06T14:04:40.655348",
     "status": "completed"
    },
    "tags": []
   },
   "outputs": [],
   "source": [
    "#step_2.hint()\n",
    "# step_2.solution()"
   ]
  },
  {
   "cell_type": "markdown",
   "id": "150da824",
   "metadata": {
    "papermill": {
     "duration": 0.004499,
     "end_time": "2022-06-06T14:04:40.679108",
     "exception": false,
     "start_time": "2022-06-06T14:04:40.674609",
     "status": "completed"
    },
    "tags": []
   },
   "source": [
    "You've tuned this model and improved your results. But we are still using Decision Tree models, which are not very sophisticated by modern machine learning standards. In the next step you will learn to use Random Forests to improve your models even more.\n",
    "\n",
    "# Keep Going\n",
    "\n",
    "You are ready for **[Random Forests](https://www.kaggle.com/dansbecker/random-forests).**\n"
   ]
  },
  {
   "cell_type": "markdown",
   "id": "8f594665",
   "metadata": {
    "papermill": {
     "duration": 0.005131,
     "end_time": "2022-06-06T14:04:40.689558",
     "exception": false,
     "start_time": "2022-06-06T14:04:40.684427",
     "status": "completed"
    },
    "tags": []
   },
   "source": [
    "---\n",
    "\n",
    "\n",
    "\n",
    "\n",
    "*Have questions or comments? Visit the [course discussion forum](https://www.kaggle.com/learn/intro-to-machine-learning/discussion) to chat with other learners.*"
   ]
  }
 ],
 "metadata": {
  "kernelspec": {
   "display_name": "Python 3",
   "language": "python",
   "name": "python3"
  },
  "language_info": {
   "codemirror_mode": {
    "name": "ipython",
    "version": 3
   },
   "file_extension": ".py",
   "mimetype": "text/x-python",
   "name": "python",
   "nbconvert_exporter": "python",
   "pygments_lexer": "ipython3",
   "version": "3.7.12"
  },
  "papermill": {
   "default_parameters": {},
   "duration": 13.341245,
   "end_time": "2022-06-06T14:04:41.417340",
   "environment_variables": {},
   "exception": null,
   "input_path": "__notebook__.ipynb",
   "output_path": "__notebook__.ipynb",
   "parameters": {},
   "start_time": "2022-06-06T14:04:28.076095",
   "version": "2.3.4"
  }
 },
 "nbformat": 4,
 "nbformat_minor": 5
}
